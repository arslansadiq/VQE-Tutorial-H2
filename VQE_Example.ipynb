{
 "cells": [
  {
   "cell_type": "markdown",
   "id": "c28726c7-ed11-479d-9937-bde09e3ce7cc",
   "metadata": {},
   "source": [
    "# Variational Quantum Eigensolver Tutorial\n",
    "\n",
    "The VQE is a hybrid classical - quantum algorithm that attempts to find the ground state energy of some molecule. The VQE is a hybrid classical - quantum algorithm that attempts to find the ground state energy of some molecule. "
   ]
  },
  {
   "cell_type": "code",
   "execution_count": 156,
   "id": "e2c6110b-fc03-4d55-ae13-20544be236fc",
   "metadata": {},
   "outputs": [],
   "source": [
    "# importing packages\n",
    "import numpy as np\n",
    "import matplotlib.pyplot as plt\n",
    "from scipy.linalg import expm\n",
    "from qiskit import QuantumCircuit, QuantumRegister, ClassicalRegister, execute, Aer, transpile\n",
    "from qiskit.quantum_info import Statevector\n",
    "from colorama import Fore, Back, Style"
   ]
  },
  {
   "cell_type": "markdown",
   "id": "9f37c20f-8fce-4e1b-a4f4-6d5c43c54da8",
   "metadata": {},
   "source": [
    "# 1 - <i>Writing the Hamiltonian in the computational basis<i>\n",
    "In quantum mechanics, the Hamiltonian of a system is an operator corresponding to the total energy of that system, including both kinetic energy and potential energy."
   ]
  },
  {
   "cell_type": "code",
   "execution_count": 164,
   "id": "bd33e625-f885-4417-84f5-ca2b9d7252d9",
   "metadata": {},
   "outputs": [],
   "source": [
    "# Defining our usual quantum gates as matrices\n",
    "\n",
    "#========= Single Qubit Gates ==========\n",
    "\n",
    "# Identity\n",
    "I = np.array([[1,0],\n",
    "              [0,1]])\n",
    "\n",
    "# Not Gate\n",
    "X = np.array([[0,1],\n",
    "              [1,0]])\n",
    "\n",
    "# Y Gate\n",
    "Y = np.array([[0,-1j],\n",
    "              [1j,0]])\n",
    "\n",
    "# Z Gate\n",
    "Z = np.array([[1,0],\n",
    "              [0,-1]])\n",
    "\n",
    "#========= Double Qubit Gates ==========\n",
    "# (x) = Tensor Product symbol\n",
    "\n",
    "II = np.kron(I,I) # I0 (x) I1 Gate\n",
    "# Z0 = np.kron(I,Z) # I0 (x) Z1 Gate\n",
    "Z0 = np.kron(Z,I) # I0 (x) Z1 Gate\n",
    "# Z1 = np.kron(Z,I) # Z0 (x) I1 Gate\n",
    "Z1 = np.kron(I,Z) # I0 (x) Z1 Gate\n",
    "ZZ = np.kron(Z,Z) # Z0 (x) Z1 Gate\n",
    "YY = np.kron(Y,Y) # Y0 (x) Y2 Gate\n",
    "XX = np.kron(X,X) # X0 (x) X1 Gate\n",
    "XY = np.kron(X,Y) # X0 (x) Y1 Gate\n",
    "\n",
    "# These double qubit gates will be useful later on!"
   ]
  },
  {
   "cell_type": "markdown",
   "id": "3dd90d4f-a702-4456-ba2e-795a01ce1e28",
   "metadata": {},
   "source": [
    "### We'll define the following:\n",
    "<ul>\n",
    "    <li> The true value of the ground state enerygy of <i>H<sub>2</sub></i>\n",
    "    <li> Hamiltonian of <i>H<sub>2</sub></i> written in the computational basis and in terms of the Hartree-Fock 'g' cofficients\n",
    "        <ul>\n",
    "            <li> $ H_{mol} = g_{0}I_{0}I_{1} + g_{1}Z_{0} + g_{2}Z_{1} + g_{3}Z_{0}Z_{1} + g_{4}Y_{0}Y_{1} + g_{5}X_{0}X_{1} $\n",
    "     <li> The nucler repulsion (electrostatic) energhy of $ H_{2} $\n",
    "</ul>"
   ]
  },
  {
   "cell_type": "code",
   "execution_count": 165,
   "id": "0f4f7e8d-320c-47e6-a905-a86f32591ddf",
   "metadata": {},
   "outputs": [
    {
     "name": "stdout",
     "output_type": "stream",
     "text": [
      "\u001b[41m____Molecule Hamiltonian____\u001b[0m\n",
      "[[ 1.11022302e-16+0.j  0.00000000e+00+0.j  0.00000000e+00+0.j\n",
      "   0.00000000e+00+0.j]\n",
      " [ 0.00000000e+00+0.j -2.73800000e-01+0.j  1.82000000e-01+0.j\n",
      "   0.00000000e+00+0.j]\n",
      " [ 0.00000000e+00+0.j  1.82000000e-01+0.j -1.83020000e+00+0.j\n",
      "   0.00000000e+00+0.j]\n",
      " [ 0.00000000e+00+0.j  0.00000000e+00+0.j  0.00000000e+00+0.j\n",
      "   1.82400000e-01+0.j]]\n"
     ]
    }
   ],
   "source": [
    "# 1) True Ground State Energy of H_2\n",
    "ground_state_true = -1.1457417\n",
    "\n",
    "# 2) 'g' Coefficients\n",
    "g0 = -0.4804\n",
    "g1 =  0.3435\n",
    "g2 = -0.4347\n",
    "g3 =  0.5716\n",
    "g4 =  0.0910\n",
    "g5 =  0.0910\n",
    "\n",
    "# Writing Halmiltonian of H_2 in commputational basis\n",
    "Hmol = g0*II + g1*Z0 + g2*Z1 + g3*ZZ + g4*YY + g5*XX\n",
    "print(Back.RED + '____Molecule Hamiltonian____' + Style.RESET_ALL)\n",
    "print(Hmol)\n",
    "\n",
    "#3) Nuclear Repulsion Energy.  This is just the energy due to the coloumb interactions in H_2\n",
    "nuclear_repulsion = 0.7055696146"
   ]
  },
  {
   "cell_type": "markdown",
   "id": "72ca28ee-e02b-457e-916b-922a3924fb1b",
   "metadata": {},
   "source": [
    "### Calculating the ground state Energy of H<sub>2</sub> using linear algebra methods \n",
    "\n",
    "Ground State Energy = min(Energy Eigenvalue) + Nuclear Repulsion Energy\n",
    "\n",
    "$\n",
    "E_{ground} = min(\\{E\\}) + U_{nuclear}\n",
    "$\n",
    "\n"
   ]
  },
  {
   "cell_type": "code",
   "execution_count": 166,
   "id": "74d56c78-daa2-4879-9a69-380b8513fb31",
   "metadata": {},
   "outputs": [
    {
     "name": "stdout",
     "output_type": "stream",
     "text": [
      "\u001b[41mcalculated ground state = \u001b[0m -1.1456295095236442\n",
      "\u001b[41mtrue ground state =       \u001b[0m -1.1457417\n"
     ]
    }
   ],
   "source": [
    "# Linear ALgebra Diagonalization Approach for finding the Ground State of H2\n",
    "\n",
    "electronic_energy = min(np.linalg.eigvalsh(Hmol)) #lowest energy eigenvalue\n",
    "ground_state = electronic_energy + nuclear_repulsion #calculating ground state energy\n",
    "\n",
    "print(Back.RED + 'calculated ground state = ' + Style.RESET_ALL, ground_state)\n",
    "print(Back.RED + 'true ground state =       ' + Style.RESET_ALL, ground_state_true)"
   ]
  },
  {
   "cell_type": "markdown",
   "id": "29b0d666-7b6a-4cee-afc2-f106cc389ac7",
   "metadata": {},
   "source": [
    "### <i><mark>Let's see how we can transform this into quanutm algorithm to AVOIDE using classical diagonalization techniques</mark></i>\n",
    "The Energy expectation value of any Fermion-based quanutm system will be greater than or equal to it's ground state energy. Or, in mathematical language,\n",
    "\n",
    "$\n",
    "  < \\psi |E| \\psi> \\ge E_{ground}\n",
    "$\n",
    "\n",
    "The goal of the VQE is to minimize the energy expectation value in order to approximate the ground state energy. But we cannot commpute the epectation value without a wavefunction, and we can't solve for the wavefunction of $H_{2}$.\n",
    "\n",
    "<mark >We propose a wave function of ansatz. </mark>\n",
    "\n",
    "In perticular, [1] proposes a wavefunction ansatz in terms of a unitary ansatz $\\mathscr{U}$\n",
    "\n",
    "$|\\psi> = \\mathscr{U}|01>$ , where [1] chooses the unitary ansatz to be <i>Unitary coupled clusters </i>\n",
    "\n",
    "$\\mathscr{U} = \\exp(-{i}\\theta X \\otimes Y)$\n",
    "\n",
    "where $\\theta$ is some tunable parameter to minimize energy expectation value\n",
    "\n",
    "### Defining the Unitary ansatz and an Expection Value Function"
   ]
  },
  {
   "cell_type": "code",
   "execution_count": 167,
   "id": "0dda2d43-95f2-4d41-b2b5-ae0fb8938b48",
   "metadata": {},
   "outputs": [],
   "source": [
    "# Building a Unitary ansatz to act on |01>, so we can compute energy expectation values\n",
    "\n",
    "# |01> State as a column vector [0, 1, 0, 0] \n",
    "state_01 = np.array([[0], [1], [0], [0]])\n",
    "\n",
    "# unitary ansatz as an exponential matrix\n",
    "def ansatz(theta):\n",
    "    return expm(-1j*theta*XY)\n",
    "\n",
    "# a function that computes energy expectation values\n",
    "def expected(theta, H):\n",
    "    a = ansatz(theta) @ state_01\n",
    "    a_dag = np.conjugate(np.transpose(a))\n",
    "    ans = a_dag @ H @ a\n",
    "    return np.real(ans)[0][0]"
   ]
  },
  {
   "cell_type": "markdown",
   "id": "5523662b-26a8-47b0-9de3-8cff42ea86d7",
   "metadata": {},
   "source": [
    "### Computing and minimizing $ <E> $\n",
    "The quantum part of the VQE computes energy expectation values, while the classical part minimizes them. Now that we have a function called <i> expected </i> that computes expectation values based on a given Hamiltonian and a value of $ \\theta $, let's plot $ <E> $ as a function of $ \\theta $ to visually see which values of $ \\theta $ minimize $ <E> $"
   ]
  },
  {
   "cell_type": "code",
   "execution_count": 168,
   "id": "a42f809b-471a-4b5c-afbc-9b60dd7f1a07",
   "metadata": {},
   "outputs": [
    {
     "name": "stdout",
     "output_type": "stream",
     "text": [
      "\u001b[41mmin theta:\u001b[0m  ----------->  4.598108505824718\n",
      "\u001b[41mmin <E>:\u001b[0m    ----------->  -1.8511985651124223\n",
      "\u001b[41mground state energy:\u001b[0m -->  -1.1456289505124224\n"
     ]
    },
    {
     "data": {
      "image/png": "[encoded data removed]",
      "text/plain": [
       "<Figure size 800x600 with 1 Axes>"
      ]
     },
     "metadata": {},
     "output_type": "display_data"
    }
   ],
   "source": [
    "# Doing a scan of theta from 0-> 2pi and computing <E> at each step\n",
    "\n",
    "\n",
    "#========================= Computing <E> at each theta value ===========================\n",
    "theta_arr = np.linspace(0,2*np.pi,702)\n",
    "E_arr = []\n",
    "for i in range(len(theta_arr)):\n",
    "    E_arr.append(expected(theta_arr[i], Hmol))\n",
    "    \n",
    "\n",
    "#====================== Finding which theta yields a minimum <E> =======================\n",
    "theta_min = theta_arr[np.argmin(E_arr)]\n",
    "E_min = min(E_arr)\n",
    "ground_state = E_min + nuclear_repulsion\n",
    "\n",
    "print(Back.RED + 'min theta:' + Style.RESET_ALL + '  -----------> ', theta_min)\n",
    "print(Back.RED + 'min <E>:' + Style.RESET_ALL,  '   -----------> ', E_min)\n",
    "print(Back.RED + 'ground state energy:'+Style.RESET_ALL,'--> ', ground_state)\n",
    "\n",
    "#plotting <E> as a function of theta\n",
    "plt.figure(figsize = (8, 6))\n",
    "plt.title('<E> vs \\u03B8 in Ansatz')\n",
    "plt.xlabel('\\u03B8')\n",
    "plt.ylabel('Expectation value of energy')\n",
    "plt.plot(theta_arr, E_arr, label = '<E> Curve')\n",
    "plt.scatter([theta_min], [E_min], s = 70, c = 'r', label = 'minimum <E>')\n",
    "plt.legend(loc = 'upper left')\n",
    "plt.show()"
   ]
  },
  {
   "cell_type": "markdown",
   "id": "1405ef6b-e4ce-4697-a54d-8f07c96f30b6",
   "metadata": {},
   "source": [
    "The visual interpretation shows that $\\theta = $ 4.596364251700976 yields the minimum $<E>$\n",
    "\n",
    "From here we can calculate the ground state energy with $E_{ground} = min(\\{E\\}) + U_{nuclear}$\n",
    "\n",
    "But wait, $min(\\{E\\})$ is the minimum energy eigenvalue, and we don't have that. But we do have $<E>$ AND we know that $<E> \\geq min(\\{E\\})$.\n",
    "\n",
    "Thus, if we minimize $<E> \\rightarrow <E>_{min}$, then $<E>_{min} \\approx min(\\{E\\})$. <mark> This is the crux of VQE </mark>\n",
    "\n",
    "Therefore,\n",
    "\n",
    "$E_{ground} \\approx <E>_{min} + U_{nuclear}$\n",
    "\n",
    "$E_{ground} \\approx (-1.85119) + (0.70556)$\n",
    "\n",
    "$E_{ground} \\approx -1.14563$\n",
    "\n",
    "The true ground state energy is $-1.1457417$....Not bad!"
   ]
  },
  {
   "cell_type": "markdown",
   "id": "08097006-4e12-4b81-a47c-00a2a5f9b17e",
   "metadata": {},
   "source": [
    "# <i> Constructing a Quanutm Circuit for VQE </i>\n",
    "\n",
    "So far, we have not implimented VQE on an actual quantum circuit. This is an essential step since we need to map VQE to a quantum circuit so we can build an actual quantum algorithm.\n",
    "\n",
    "Represent the unitary ansatz as a quanutm circuit. <mark> Any unitary gate can be built out of other unitary gates</mark>. Thus in theory we shiuld be able to build $\\mathscr{U}$ using quantum gates, since other than measurement gates all quanutm gate sare unitary.\n",
    "\n",
    "According to [1], below is the circuit for $\\mathscr{U}$ \n",
    "\n",
    "<img src=\"download.png\"/>\n",
    "\n",
    "### Implementing VQE in Qiskit"
   ]
  },
  {
   "cell_type": "code",
   "execution_count": 170,
   "id": "ce3c8e1d-6357-4d6c-b813-b84e4e7c733f",
   "metadata": {},
   "outputs": [],
   "source": [
    "def ReturnPsi(obj, **kwargs):\n",
    "    '''\n",
    "    Returns the wavefunction psi in a numpy array\n",
    "    '''\n",
    "\n",
    "    if(type(obj) == QuantumCircuit  ):\n",
    "        statevec = execute( obj, S_simulator, shots=1 ).result().get_statevector()\n",
    "    if(type(obj) == np.ndarray):\n",
    "        statevec = obj\n",
    "    #==============\n",
    "    statevec = list( np.asarray(statevec) )\n",
    "    #==============\n",
    "    dec = 5\n",
    "    if 'precision' in kwargs:\n",
    "        dec = int( kwargs['precision'] )\n",
    "           \n",
    "    # Rounding off states\n",
    "    statevec = np.round(statevec,dec) \n",
    "    num_bases = len(statevec)\n",
    "    num_qubits = int(np.log2(num_bases))\n",
    "    \n",
    "    \n",
    "    def bin_gen(number, num_qubits):\n",
    "        bin1 = bin(number)[2:]\n",
    "        L = num_qubits - len(bin1)\n",
    "        bin2 = L*'0' + bin1\n",
    "        return bin2\n",
    "    \n",
    "    def rev_bin_gen(number, num_qubits):\n",
    "        return bin_gen(number, num_qubits)[::-1]\n",
    "    \n",
    "    def binto10(number):\n",
    "        num_qubits = len(number)\n",
    "        num_bases  = int(2**num_qubits)\n",
    "        reg_order = []\n",
    "        for i in range(num_bases):\n",
    "            reg_order.append(bin_gen(i, num_qubits))\n",
    "            \n",
    "        reg_order = np.array(reg_order)\n",
    "        return np.where(reg_order == number)[0][0]\n",
    "    \n",
    "    def dual_sort(key, values):\n",
    "        k=1\n",
    "        while k!=0:\n",
    "            k=0\n",
    "            for i in range(len(key)-1):\n",
    "                a = key[i]\n",
    "                b = key[i+1]\n",
    "\n",
    "                c = values[i]\n",
    "                d = values[i+1]\n",
    "\n",
    "                if b<a:\n",
    "                    k+=1\n",
    "                    key[i] = b\n",
    "                    key[i+1] = a\n",
    "\n",
    "                    values[i] = d\n",
    "                    values[i+1] = c\n",
    "                    \n",
    "                    \n",
    "        return values\n",
    "    \n",
    "    key = []\n",
    "    for i in range(num_bases):\n",
    "        key.append(binto10(rev_bin_gen(i, num_qubits)))\n",
    "        \n",
    "    psi = dual_sort(key, statevec)\n",
    "    \n",
    "    return psi"
   ]
  },
  {
   "cell_type": "code",
   "execution_count": 175,
   "id": "3c5c3d36-ec63-41e0-87dd-80a3aadac0a3",
   "metadata": {},
   "outputs": [
    {
     "name": "stdout",
     "output_type": "stream",
     "text": [
      "\u001b[41mPrint Quantum Circuit:\u001b[0m\n",
      "           ░ ┌─────────┐                         ┌─────────┐  ░ \n",
      "q_0: ──────░─┤ Ry(π/2) ├───■──────────────────■──┤ Ry(π/2) ├──░─\n",
      "     ┌───┐ ░ ├─────────┴┐┌─┴─┐┌────────────┐┌─┴─┐├─────────┴┐ ░ \n",
      "q_1: ┤ X ├─░─┤ Rx(-π/2) ├┤ X ├┤ Rz(9.1962) ├┤ X ├┤ Rx(-π/2) ├─░─\n",
      "     └───┘ ░ └──────────┘└───┘└────────────┘└───┘└──────────┘ ░ \n",
      "c: 2/═══════════════════════════════════════════════════════════\n",
      "                                                                \n",
      "Result(backend_name='statevector_simulator', backend_version='0.11.2', qobj_id='ad48e94a-e7cf-41e8-b581-5266ec1433d6', job_id='bd01482a-0313-44ac-8bed-b18009835e3e', success=True, results=[ExperimentResult(shots=1, success=True, meas_level=2, data=ExperimentResultData(counts={'0x0': 1}, statevector=Statevector([ 5.55111512e-17-2.45326947e-17j,\n",
      "             -3.92523115e-17-1.14031886e-01j,\n",
      "             -4.90653893e-18-9.93477090e-01j,\n",
      "             -2.08166817e-17-3.92523115e-17j],\n",
      "            dims=(2, 2))), header=QobjExperimentHeader(clbit_labels=[['c', 0], ['c', 1]], creg_sizes=[['c', 2]], global_phase=0.0, memory_slots=2, metadata={}, n_qubits=2, name='circuit-2541', qreg_sizes=[['q', 2]], qubit_labels=[['q', 0], ['q', 1]]), status=DONE, seed_simulator=4130582375, metadata={'noise': 'ideal', 'batched_shots_optimization': False, 'measure_sampling': True, 'parallel_shots': 1, 'remapped_qubits': False, 'active_input_qubits': [0, 1], 'num_clbits': 2, 'parallel_state_update': 8, 'num_qubits': 2, 'device': 'CPU', 'input_qubit_map': [[1, 1], [0, 0]], 'method': 'statevector', 'result_subtypes': {'statevector': 'single'}, 'result_types': {'statevector': 'save_statevector'}, 'fusion': {'applied': False, 'max_fused_qubits': 5, 'threshold': 14, 'enabled': True}}, time_taken=0.000119812)], date=2024-11-26T14:30:04.816880, status=COMPLETED, header=QobjHeader(backend_name='statevector_simulator', backend_version='0.11.2'), metadata={'time_taken': 0.000333276, 'time_taken_execute': 0.000171398, 'mpi_rank': 0, 'num_mpi_processes': 1, 'max_gpu_memory_mb': 0, 'max_memory_mb': 15713, 'parallel_experiments': 1, 'time_taken_load_qobj': 0.000155523, 'num_processes_per_experiments': 1, 'omp_enabled': True}, time_taken=0.0008320808410644531)\n",
      "[(5.551115123125783e-17-2.4532694666933986e-17j), (-3.925231146709438e-17-0.11403188593288721j), (-4.9065389333868e-18-0.9934770903199474j), (-2.0816681711721685e-17-3.925231146709437e-17j)]\n",
      "No. of qubits\n",
      "2\n",
      "state vector\n",
      "[ 0.-0.j      -0.-0.11403j -0.-0.99348j -0.-0.j     ]\n",
      "Comparison\n",
      "E_min:  -1.8511985651124223\n",
      "E_min_circ:  -1.7687358774909\n"
     ]
    }
   ],
   "source": [
    "# setting up quanutm register\n",
    "q = QuantumRegister(2, 'q')\n",
    "c = ClassicalRegister(2, 'c')\n",
    "qc = QuantumCircuit(q,c)\n",
    "\n",
    "#state preparation\n",
    "qc.x(q[1])\n",
    "qc.barrier()\n",
    "\n",
    "#encoding unitary ansatz\n",
    "def ansatz_circ(qc, theta):\n",
    "    '''\n",
    "    append ansatz quantum circuit equivalent\n",
    "    to qc for some parameter theta\n",
    "    '''\n",
    "    \n",
    "    qc.ry(np.pi/2, q[0]) #Ry rotation gate\n",
    "    qc.rx(-np.pi/2, q[1]) #Rx rotation gate\n",
    "    qc.cx(q[0], q[1]) #CNOT gate\n",
    "    qc.rz(2*theta,q[1])  # Parameterized Rz Rotation Gate\n",
    "\n",
    "    qc.cx(q[0],q[1])     # CNOT Gate\n",
    "    qc.ry(np.pi/2,q[0])  # Ry Rotation Gate\n",
    "    qc.rx(-np.pi/2,q[1]) # Rx Rotation Gate\n",
    "\n",
    "ansatz_circ(qc,theta_min) # Copying & Pasting the optimal theta value that we found previously\n",
    "qc.barrier()\n",
    "\n",
    "# measurement method here to find <E>\n",
    "\n",
    "print(Back.RED + 'Print Quantum Circuit:' + Style.RESET_ALL)\n",
    "print(qc)\n",
    "\n",
    "s_sim = Aer.backends(name='statevector_simulator')[0]\n",
    "stateevec = execute(qc, s_sim, shots=1)\n",
    "statevec_res = stateevec.result()\n",
    "print(statevec_res)\n",
    "psi = statevec_res.get_statevector()\n",
    "\n",
    "\n",
    "psi = list(np.asarray(psi))\n",
    "\n",
    "print(psi)\n",
    "\n",
    "dec = 5\n",
    "statevec = np.round(psi, dec)\n",
    "print('No. of qubits')\n",
    "print(int(np.log2(len(statevec))))\n",
    "# statevec = ReturnPsi(qc)\n",
    "print('state vector')\n",
    "print(statevec)\n",
    "\n",
    "\n",
    "def expected_circ(psi, H):\n",
    "    psi_diag = np.conjugate(np.transpose(psi))\n",
    "    ans = psi_diag @ H @ psi\n",
    "    return np.real(ans)\n",
    "\n",
    "E_min_circ = expected_circ(statevec, Hmol)\n",
    "\n",
    "print('Comparison')\n",
    "print('E_min: ', E_min)\n",
    "print('E_min_circ: ', E_min_circ)"
   ]
  },
  {
   "cell_type": "markdown",
   "id": "e407ccc5-b9c6-4aaa-b367-5c30ff47303d",
   "metadata": {},
   "source": [
    "# Bibliography\n",
    "[1] J. Goings, “Variational Quantum Eigensolver (VQE) example,” Joshua Goings, https://joshuagoings.com/2020/08/20/VQE/ (accessed Nov. 3, 2023).\n",
    "\n",
    "[2] Qiskit, “VQE zero to hero,” YouTube, https://www.youtube.com/watch?v=TUFovZsBcW4 (accessed Nov. 3, 2023).\n",
    "\n",
    "[3] “A tutorial on quantum approximate optimization algorithm (Oct 2020). part 1: Theory,” YouTube, https://www.youtube.com/watch?v=AOKM9BkweVU&t=1763s (accessed Nov. 3, 2023).\n",
    "\n",
    "[4] “Building variational Quantum Eigensolver from scratch,” Variational Qauntum Eigensolver, https://obliviateandsurrender.github.io/blogs/vqe.html#:~:text=It%20is%20done%20by%20applying,do%20a%20normal%20basis%20measurement. (accessed Nov. 10, 2023).\n",
    "\n",
    "[5] P. J. J. O’Malley, Scalable quantum simulation of molecular energies, https://journals.aps.org/prx/pdf/10.1103/PhysRevX.6.031007 (accessed Nov. 10, 2023)."
   ]
  },
  {
   "cell_type": "code",
   "execution_count": null,
   "id": "f05da255-f3b3-43eb-99cf-0ae2209e8b25",
   "metadata": {},
   "outputs": [],
   "source": []
  }
 ],
 "metadata": {
  "kernelspec": {
   "display_name": "Python 3 (ipykernel)",
   "language": "python",
   "name": "python3"
  },
  "language_info": {
   "codemirror_mode": {
    "name": "ipython",
    "version": 3
   },
   "file_extension": ".py",
   "mimetype": "text/x-python",
   "name": "python",
   "nbconvert_exporter": "python",
   "pygments_lexer": "ipython3",
   "version": "3.10.12"
  }
 },
 "nbformat": 4,
 "nbformat_minor": 5
}
